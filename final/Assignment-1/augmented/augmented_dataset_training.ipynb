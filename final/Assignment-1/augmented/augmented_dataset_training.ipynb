{
  "cells": [
    {
      "cell_type": "markdown",
      "metadata": {},
      "source": [
        "https://www.kaggle.com/code/imthebaron/face-training?scriptVersionId=198879052"
      ]
    },
    {
      "cell_type": "code",
      "execution_count": null,
      "metadata": {
        "execution": {
          "iopub.execute_input": "2024-09-30T07:10:58.848063Z",
          "iopub.status.busy": "2024-09-30T07:10:58.847643Z",
          "iopub.status.idle": "2024-09-30T07:10:58.861744Z",
          "shell.execute_reply": "2024-09-30T07:10:58.860432Z",
          "shell.execute_reply.started": "2024-09-30T07:10:58.848023Z"
        },
        "id": "_wXKxENAdIkT",
        "trusted": true
      },
      "outputs": [],
      "source": [
        "import tensorflow as tf\n",
        "from tensorflow.keras.preprocessing.image import ImageDataGenerator\n",
        "import os\n",
        "import numpy as np\n",
        "import matplotlib.pyplot as plt\n",
        "import seaborn as sns\n",
        "import glob as gb\n",
        "import pickle\n",
        "import cv2\n",
        "import pandas as pd\n",
        "from tqdm import tqdm"
      ]
    },
    {
      "cell_type": "code",
      "execution_count": null,
      "metadata": {
        "_cell_guid": "b1076dfc-b9ad-4769-8c92-a6c4dae69d19",
        "_uuid": "8f2839f25d086af736a60e9eeb907d3b93b6e0e5",
        "execution": {
          "iopub.execute_input": "2024-09-30T07:10:38.632239Z",
          "iopub.status.busy": "2024-09-30T07:10:38.631782Z",
          "iopub.status.idle": "2024-09-30T07:10:38.637621Z",
          "shell.execute_reply": "2024-09-30T07:10:38.636287Z",
          "shell.execute_reply.started": "2024-09-30T07:10:38.632201Z"
        },
        "id": "XgdxLLpWdIkT",
        "trusted": true
      },
      "outputs": [],
      "source": [
        "data_path = '/kaggle/input/cvpr-faces/augmented_faces'"
      ]
    },
    {
      "cell_type": "code",
      "execution_count": null,
      "metadata": {
        "execution": {
          "iopub.execute_input": "2024-09-30T07:10:40.038693Z",
          "iopub.status.busy": "2024-09-30T07:10:40.03797Z",
          "iopub.status.idle": "2024-09-30T07:10:40.044596Z",
          "shell.execute_reply": "2024-09-30T07:10:40.04356Z",
          "shell.execute_reply.started": "2024-09-30T07:10:40.038649Z"
        },
        "id": "7DKBMNNudIkU",
        "trusted": true
      },
      "outputs": [],
      "source": [
        "IMG_SIZE = 224\n",
        "BATCH_SIZE = 64"
      ]
    },
    {
      "cell_type": "code",
      "execution_count": null,
      "metadata": {
        "execution": {
          "iopub.execute_input": "2024-09-30T07:11:00.751568Z",
          "iopub.status.busy": "2024-09-30T07:11:00.751114Z",
          "iopub.status.idle": "2024-09-30T07:11:01.761326Z",
          "shell.execute_reply": "2024-09-30T07:11:01.760085Z",
          "shell.execute_reply.started": "2024-09-30T07:11:00.751522Z"
        },
        "id": "mnT45-6odIkU",
        "trusted": true
      },
      "outputs": [],
      "source": [
        "classes = []\n",
        "class_count = []\n",
        "train_examples = 0\n",
        "\n",
        "for f in tqdm(os.listdir(data_path)):\n",
        "  files = gb.glob(pathname = str(data_path + '//' + f + '//' + '/*'))\n",
        "  classes.append(f)\n",
        "  class_count.append(len(files))\n",
        "  train_examples += len(files)\n",
        "\n",
        "sns.barplot(x=classes, y=class_count)\n",
        "print(train_examples)"
      ]
    },
    {
      "cell_type": "code",
      "execution_count": null,
      "metadata": {
        "execution": {
          "iopub.execute_input": "2024-09-30T07:11:18.623114Z",
          "iopub.status.busy": "2024-09-30T07:11:18.622672Z",
          "iopub.status.idle": "2024-09-30T07:11:18.628815Z",
          "shell.execute_reply": "2024-09-30T07:11:18.627496Z",
          "shell.execute_reply.started": "2024-09-30T07:11:18.623071Z"
        },
        "id": "e1r5NlTLdIkU",
        "trusted": true
      },
      "outputs": [],
      "source": [
        "train_gen = ImageDataGenerator(\n",
        "      #rescale=1.0/255,\n",
        "      #preprocessing_function = tf.keras.applications.vgg16.preprocess_input\n",
        "      #preprocessing_function = tf.keras.applications.mobilenet.preprocess_input,\n",
        "      preprocessing_function = tf.keras.applications.densenet.preprocess_input,\n",
        "      validation_split = 0.3\n",
        ")"
      ]
    },
    {
      "cell_type": "code",
      "execution_count": null,
      "metadata": {
        "execution": {
          "iopub.execute_input": "2024-09-30T07:11:19.886837Z",
          "iopub.status.busy": "2024-09-30T07:11:19.886415Z",
          "iopub.status.idle": "2024-09-30T07:11:22.146307Z",
          "shell.execute_reply": "2024-09-30T07:11:22.145331Z",
          "shell.execute_reply.started": "2024-09-30T07:11:19.886799Z"
        },
        "id": "7PzxXfXKdIkU",
        "trusted": true
      },
      "outputs": [],
      "source": [
        "train_batches = train_gen.flow_from_directory(\n",
        "          directory = data_path,\n",
        "          target_size = (IMG_SIZE, IMG_SIZE),\n",
        "          class_mode='sparse',\n",
        "          batch_size = BATCH_SIZE,\n",
        "          shuffle=True,\n",
        "          seed=42,\n",
        "          subset = 'training'\n",
        "      )\n",
        "\n",
        "valid_batches = train_gen.flow_from_directory(\n",
        "    directory = data_path,\n",
        "    target_size = (IMG_SIZE, IMG_SIZE),\n",
        "    class_mode='sparse',\n",
        "    shuffle=True,\n",
        "    seed=42,\n",
        "    batch_size = BATCH_SIZE,\n",
        "    subset = 'validation'\n",
        ")"
      ]
    },
    {
      "cell_type": "code",
      "execution_count": null,
      "metadata": {
        "execution": {
          "iopub.execute_input": "2024-09-30T07:11:22.148594Z",
          "iopub.status.busy": "2024-09-30T07:11:22.148208Z",
          "iopub.status.idle": "2024-09-30T07:11:22.154672Z",
          "shell.execute_reply": "2024-09-30T07:11:22.153613Z",
          "shell.execute_reply.started": "2024-09-30T07:11:22.148554Z"
        },
        "id": "LC-Ul1nTdIkV",
        "trusted": true
      },
      "outputs": [],
      "source": [
        "class_indices = train_batches.class_indices  # Dictionary mapping class names to integer labels\n",
        "\n",
        "# Step 2: Invert the class_indices dictionary to get a mapping from labels to class names\n",
        "class_names = {v: k for k, v in class_indices.items()}\n",
        "\n",
        "# Output class names\n",
        "print(class_names)"
      ]
    },
    {
      "cell_type": "code",
      "execution_count": null,
      "metadata": {
        "execution": {
          "iopub.execute_input": "2024-09-30T07:11:34.071702Z",
          "iopub.status.busy": "2024-09-30T07:11:34.071243Z",
          "iopub.status.idle": "2024-09-30T07:11:36.171912Z",
          "shell.execute_reply": "2024-09-30T07:11:36.170634Z",
          "shell.execute_reply.started": "2024-09-30T07:11:34.071659Z"
        },
        "id": "g9P_GDPpdIkV",
        "trusted": true
      },
      "outputs": [],
      "source": [
        "import tensorflow as tf\n",
        "from tensorflow.keras import layers, models\n",
        "\n",
        "base_model = tf.keras.applications.DenseNet121(include_top=False, weights='imagenet', input_shape=(224, 224, 3))\n",
        "\n",
        "def custom():  # Change to 3 channels\n",
        "    # Load Xception model with pre-trained weights (on ImageNet)\n",
        "    input = layers.Input(shape=(224, 224, 3))\n",
        "\n",
        "    x = base_model(input, training=True)\n",
        "\n",
        "    # Add custom layers on top of the base model\n",
        "    x = layers.GlobalAveragePooling2D()(x)  # Change to Global Average Pooling\n",
        "    x = layers.Dropout(0.3)(x)  # Regularization\n",
        "    x = layers.Dense(1024, activation='relu')(x)  # Dense layer  # Regularization\n",
        "    x = layers.BatchNormalization()(x)\n",
        "    x = layers.Dense(512, activation='relu')(x)\n",
        "    x = layers.Dropout(0.1)(x)\n",
        "\n",
        "    output = x = layers.Dense(56, activation='softmax')(x)\n",
        "\n",
        "    # Create the model\n",
        "    model = tf.keras.Model(inputs=input, outputs=output, name='bengali.ai')\n",
        "    return model\n",
        "\n",
        "# Create and compile the model\n",
        "model = custom()\n",
        "model.summary()"
      ]
    },
    {
      "cell_type": "code",
      "execution_count": null,
      "metadata": {
        "execution": {
          "iopub.execute_input": "2024-09-30T07:11:36.174411Z",
          "iopub.status.busy": "2024-09-30T07:11:36.173985Z",
          "iopub.status.idle": "2024-09-30T07:11:36.194588Z",
          "shell.execute_reply": "2024-09-30T07:11:36.193133Z",
          "shell.execute_reply.started": "2024-09-30T07:11:36.174341Z"
        },
        "id": "URbFU8PpdIkV",
        "trusted": true
      },
      "outputs": [],
      "source": [
        "model.compile(\n",
        "    optimizer = tf.keras.optimizers.Adam(learning_rate=0.0001),\n",
        "    loss = tf.keras.losses.SparseCategoricalCrossentropy(),\n",
        "    metrics = ['accuracy']\n",
        ")\n",
        "\n",
        "reduce_lr = tf.keras.callbacks.ReduceLROnPlateau(\n",
        "    monitor='val_loss',   # Metric to monitor (can be 'loss', 'accuracy', etc.)\n",
        "    factor=0.9,           # Factor by which the learning rate will be reduced\n",
        "    patience=20,           # Number of epochs with no improvement after which learning rate will be reduced\n",
        "    min_lr=1e-6           # Lower bound on the learning rate\n",
        ")\n",
        "\n",
        "early_stopping_callback = tf.keras.callbacks.EarlyStopping(\n",
        "    monitor='val_loss',  # Monitor validation accuracy\n",
        "    min_delta=0.001,         # Minimum change in monitored value to qualify as improvement\n",
        "    patience=4,             # Stop after 10 epochs of no improvement\n",
        "    mode='min',              # Maximize the validation accuracy\n",
        "    restore_best_weights=True,  # Restore model weights from the best epoch\n",
        "    verbose=1\n",
        ")"
      ]
    },
    {
      "cell_type": "code",
      "execution_count": null,
      "metadata": {
        "execution": {
          "iopub.execute_input": "2024-09-30T07:11:36.19645Z",
          "iopub.status.busy": "2024-09-30T07:11:36.195963Z",
          "iopub.status.idle": "2024-09-30T07:11:36.20472Z",
          "shell.execute_reply": "2024-09-30T07:11:36.203472Z",
          "shell.execute_reply.started": "2024-09-30T07:11:36.1964Z"
        },
        "id": "pTXEZHbHdIkV",
        "trusted": true
      },
      "outputs": [],
      "source": [
        "model_checkpoint_callback = tf.keras.callbacks.ModelCheckpoint(\n",
        "    filepath='checkpoint.weights.h5',\n",
        "    monitor='val_loss',\n",
        "    mode='min',\n",
        "    save_freq = 'epoch',\n",
        "    save_weights_only=True,\n",
        "    save_best_only=True)"
      ]
    },
    {
      "cell_type": "code",
      "execution_count": null,
      "metadata": {
        "execution": {
          "iopub.execute_input": "2024-09-30T07:11:36.207558Z",
          "iopub.status.busy": "2024-09-30T07:11:36.207143Z"
        },
        "id": "SdH_liBQdIkV",
        "trusted": true
      },
      "outputs": [],
      "source": [
        "train_history = model.fit(\n",
        "    train_batches,\n",
        "    epochs = 50,\n",
        "    steps_per_epoch = 20055 // BATCH_SIZE,\n",
        "    validation_data = valid_batches,\n",
        "    validation_steps = 8553 // BATCH_SIZE,\n",
        "    callbacks=[model_checkpoint_callback, early_stopping_callback]#, reduce_lr]\n",
        ")"
      ]
    },
    {
      "cell_type": "code",
      "execution_count": null,
      "metadata": {
        "execution": {
          "iopub.execute_input": "2024-09-30T04:43:41.924107Z",
          "iopub.status.busy": "2024-09-30T04:43:41.923783Z",
          "iopub.status.idle": "2024-09-30T04:43:42.705758Z",
          "shell.execute_reply": "2024-09-30T04:43:42.704941Z",
          "shell.execute_reply.started": "2024-09-30T04:43:41.924073Z"
        },
        "id": "xi2f86PWdIkW",
        "trusted": true
      },
      "outputs": [],
      "source": [
        "model.save('face densenet121.h5')"
      ]
    },
    {
      "cell_type": "code",
      "execution_count": null,
      "metadata": {
        "execution": {
          "iopub.execute_input": "2024-09-30T04:43:42.707202Z",
          "iopub.status.busy": "2024-09-30T04:43:42.706891Z",
          "iopub.status.idle": "2024-09-30T04:43:43.691876Z",
          "shell.execute_reply": "2024-09-30T04:43:43.690921Z",
          "shell.execute_reply.started": "2024-09-30T04:43:42.707169Z"
        },
        "id": "tBIVrocEdIkW",
        "trusted": true
      },
      "outputs": [],
      "source": [
        "plt.style.use('ggplot')\n",
        "plt.figure(figsize = (10, 5))\n",
        "plt.plot(train_history.history['loss'], '--o', label='train loss')\n",
        "plt.plot(train_history.history['val_loss'], '--o', label='val loss')\n",
        "plt.legend()\n",
        "plt.title('training loss & val loss')\n",
        "plt.savefig('fig_total_loss.png', format='png', dpi=400)\n",
        "plt.show()"
      ]
    },
    {
      "cell_type": "code",
      "execution_count": null,
      "metadata": {
        "execution": {
          "iopub.execute_input": "2024-09-30T04:43:43.695511Z",
          "iopub.status.busy": "2024-09-30T04:43:43.695184Z",
          "iopub.status.idle": "2024-09-30T04:43:44.824361Z",
          "shell.execute_reply": "2024-09-30T04:43:44.823382Z",
          "shell.execute_reply.started": "2024-09-30T04:43:43.69547Z"
        },
        "id": "h1Hvc0S6dIkW",
        "trusted": true
      },
      "outputs": [],
      "source": [
        "plt.style.use('ggplot')\n",
        "plt.figure(figsize = (10, 5))\n",
        "plt.plot(train_history.history['accuracy'], '--o', label='train accuracy')\n",
        "plt.plot(train_history.history['val_accuracy'], '--o', label='val accuracy')\n",
        "plt.legend()\n",
        "plt.title('training accuracy & val accuracy')\n",
        "plt.savefig('fig_total_acc.png', format='png', dpi=400)\n",
        "plt.show()"
      ]
    },
    {
      "cell_type": "code",
      "execution_count": null,
      "metadata": {
        "execution": {
          "iopub.execute_input": "2024-09-30T04:43:44.825819Z",
          "iopub.status.busy": "2024-09-30T04:43:44.825502Z",
          "iopub.status.idle": "2024-09-30T04:43:44.833831Z",
          "shell.execute_reply": "2024-09-30T04:43:44.833024Z",
          "shell.execute_reply.started": "2024-09-30T04:43:44.825785Z"
        },
        "id": "rWKFHnYodIkW",
        "trusted": true
      },
      "outputs": [],
      "source": [
        "pd.DataFrame(train_history.history).to_csv('history.csv', index=False)"
      ]
    },
    {
      "cell_type": "code",
      "execution_count": null,
      "metadata": {
        "execution": {
          "iopub.execute_input": "2024-09-30T04:43:44.835247Z",
          "iopub.status.busy": "2024-09-30T04:43:44.834922Z",
          "iopub.status.idle": "2024-09-30T04:43:44.853481Z",
          "shell.execute_reply": "2024-09-30T04:43:44.852633Z",
          "shell.execute_reply.started": "2024-09-30T04:43:44.835206Z"
        },
        "id": "GBNLp6zTdIkW",
        "trusted": true
      },
      "outputs": [],
      "source": [
        "df = pd.read_csv('/kaggle/working/history.csv')\n",
        "print(df.shape)\n",
        "df.head(df.shape[0])"
      ]
    },
    {
      "cell_type": "code",
      "execution_count": null,
      "metadata": {
        "execution": {
          "iopub.execute_input": "2024-09-30T06:20:29.475754Z",
          "iopub.status.busy": "2024-09-30T06:20:29.475069Z",
          "iopub.status.idle": "2024-09-30T06:20:33.297705Z",
          "shell.execute_reply": "2024-09-30T06:20:33.296833Z",
          "shell.execute_reply.started": "2024-09-30T06:20:29.475715Z"
        },
        "id": "Jo1NOjGgdIkW",
        "trusted": true
      },
      "outputs": [],
      "source": [
        "# model = tf.keras.models.load_model('/kaggle/input/face-training/custom.h5')\n",
        "# model.summary()"
      ]
    },
    {
      "cell_type": "code",
      "execution_count": null,
      "metadata": {
        "execution": {
          "iopub.execute_input": "2024-09-30T06:21:51.530817Z",
          "iopub.status.busy": "2024-09-30T06:21:51.529912Z",
          "iopub.status.idle": "2024-09-30T06:22:02.003701Z",
          "shell.execute_reply": "2024-09-30T06:22:02.002798Z",
          "shell.execute_reply.started": "2024-09-30T06:21:51.530777Z"
        },
        "id": "0UOyPZNPdIkW",
        "trusted": true
      },
      "outputs": [],
      "source": [
        "import numpy as np\n",
        "\n",
        "img = tf.keras.utils.load_img('/kaggle/input/cvpr-faces/faces/Rono/4.png', target_size=(224, 224))\n",
        "img_array = tf.keras.utils.img_to_array(img)\n",
        "img = tf.keras.applications.densenet.preprocess_input(img_array)\n",
        "img_array = tf.expand_dims(img_array, 0)\n",
        "\n",
        "img_predictions = model.predict(img_array)\n",
        "print([np.argmax(np.round(img_predictions,2))])\n",
        "pred_label = class_names[np.argmax(np.round(img_predictions,2))]\n",
        "print(\" Predicted label is:\"+ pred_label)\n",
        "\n",
        "plt.imshow(img)"
      ]
    },
    {
      "cell_type": "code",
      "execution_count": null,
      "metadata": {
        "id": "-RpbcJnIdIkW"
      },
      "outputs": [],
      "source": []
    }
  ],
  "metadata": {
    "colab": {
      "name": "face training",
      "provenance": []
    },
    "kaggle": {
      "accelerator": "gpu",
      "dataSources": [
        {
          "datasetId": 5787605,
          "sourceId": 9513676,
          "sourceType": "datasetVersion"
        },
        {
          "sourceId": 198827508,
          "sourceType": "kernelVersion"
        }
      ],
      "dockerImageVersionId": 30775,
      "isGpuEnabled": true,
      "isInternetEnabled": true,
      "language": "python",
      "sourceType": "notebook"
    },
    "kernelspec": {
      "display_name": "Python 3",
      "language": "python",
      "name": "python3"
    },
    "language_info": {
      "codemirror_mode": {
        "name": "ipython",
        "version": 3
      },
      "file_extension": ".py",
      "mimetype": "text/x-python",
      "name": "python",
      "nbconvert_exporter": "python",
      "pygments_lexer": "ipython3",
      "version": "3.10.14"
    }
  },
  "nbformat": 4,
  "nbformat_minor": 0
}
