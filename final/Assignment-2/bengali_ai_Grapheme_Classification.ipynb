{
  "cells": [
    {
      "cell_type": "markdown",
      "metadata": {},
      "source": [
        "https://www.kaggle.com/code/imthebaron/bengali-ai-grapheme-classification?scriptVersionId=198759523"
      ]
    },
    {
      "cell_type": "code",
      "execution_count": null,
      "metadata": {
        "_cell_guid": "b1076dfc-b9ad-4769-8c92-a6c4dae69d19",
        "_uuid": "8f2839f25d086af736a60e9eeb907d3b93b6e0e5",
        "execution": {
          "iopub.execute_input": "2024-09-29T09:02:11.457821Z",
          "iopub.status.busy": "2024-09-29T09:02:11.457462Z",
          "iopub.status.idle": "2024-09-29T09:02:31.635176Z",
          "shell.execute_reply": "2024-09-29T09:02:31.634287Z",
          "shell.execute_reply.started": "2024-09-29T09:02:11.457785Z"
        },
        "id": "y52ubJdTd43j",
        "trusted": true
      },
      "outputs": [],
      "source": [
        "import os\n",
        "import math\n",
        "\n",
        "import numpy as np\n",
        "import pandas as pd\n",
        "import tensorflow as tf\n",
        "import matplotlib.pyplot as plt\n",
        "from tensorflow.keras.applications import DenseNet121\n",
        "from tensorflow.keras.models import Sequential, Model\n",
        "from tensorflow.keras.preprocessing.image import ImageDataGenerator\n",
        "from tensorflow.keras import layers, optimizers\n",
        "from tensorflow.keras.callbacks import EarlyStopping\n",
        "from sklearn.model_selection import train_test_split\n",
        "from skimage.color import rgb2gray\n",
        "from skimage import measure\n",
        "\n",
        "import cv2\n",
        "from tqdm import tqdm"
      ]
    },
    {
      "cell_type": "code",
      "execution_count": null,
      "metadata": {
        "execution": {
          "iopub.execute_input": "2024-09-29T09:40:36.153725Z",
          "iopub.status.busy": "2024-09-29T09:40:36.15291Z",
          "iopub.status.idle": "2024-09-29T09:40:36.177996Z",
          "shell.execute_reply": "2024-09-29T09:40:36.176793Z",
          "shell.execute_reply.started": "2024-09-29T09:40:36.153673Z"
        },
        "id": "4wD63zbcd43j",
        "trusted": true
      },
      "outputs": [],
      "source": [
        "tf.random.set_seed(42)"
      ]
    },
    {
      "cell_type": "code",
      "execution_count": null,
      "metadata": {
        "execution": {
          "iopub.execute_input": "2024-09-29T09:40:36.351692Z",
          "iopub.status.busy": "2024-09-29T09:40:36.3508Z",
          "iopub.status.idle": "2024-09-29T09:40:36.605274Z",
          "shell.execute_reply": "2024-09-29T09:40:36.604204Z",
          "shell.execute_reply.started": "2024-09-29T09:40:36.351651Z"
        },
        "id": "4WeM8Oamd43k",
        "trusted": true
      },
      "outputs": [],
      "source": [
        "load_dir = '/kaggle/input/bengaliai/256_train/256/'\n",
        "\n",
        "train = pd.read_csv('/kaggle/input/bengaliai-cv19/train.csv')\n",
        "train.head()"
      ]
    },
    {
      "cell_type": "code",
      "execution_count": null,
      "metadata": {
        "execution": {
          "iopub.execute_input": "2024-09-29T09:40:36.60751Z",
          "iopub.status.busy": "2024-09-29T09:40:36.607157Z",
          "iopub.status.idle": "2024-09-29T09:40:36.705101Z",
          "shell.execute_reply": "2024-09-29T09:40:36.704112Z",
          "shell.execute_reply.started": "2024-09-29T09:40:36.607466Z"
        },
        "id": "SwvploMid43k",
        "trusted": true
      },
      "outputs": [],
      "source": [
        "train['filename'] = train.image_id.apply(lambda filename: load_dir + filename + '.png')\n",
        "train = train[:50000]\n",
        "len(train)"
      ]
    },
    {
      "cell_type": "code",
      "execution_count": null,
      "metadata": {
        "execution": {
          "iopub.execute_input": "2024-09-29T09:40:36.707847Z",
          "iopub.status.busy": "2024-09-29T09:40:36.706977Z",
          "iopub.status.idle": "2024-09-29T09:40:36.720191Z",
          "shell.execute_reply": "2024-09-29T09:40:36.719264Z",
          "shell.execute_reply.started": "2024-09-29T09:40:36.707798Z"
        },
        "id": "dYVSlpmSd43k",
        "trusted": true
      },
      "outputs": [],
      "source": [
        "train.head()"
      ]
    },
    {
      "cell_type": "code",
      "execution_count": null,
      "metadata": {
        "execution": {
          "iopub.execute_input": "2024-09-29T09:40:36.787286Z",
          "iopub.status.busy": "2024-09-29T09:40:36.78641Z",
          "iopub.status.idle": "2024-09-29T09:40:37.01124Z",
          "shell.execute_reply": "2024-09-29T09:40:37.010179Z",
          "shell.execute_reply.started": "2024-09-29T09:40:36.787245Z"
        },
        "id": "J5BjDQh1d43k",
        "trusted": true
      },
      "outputs": [],
      "source": [
        "train_df = pd.read_csv('/kaggle/input/bengaliai-cv19/train.csv')\n",
        "print(f'Size of training data: {train_df.shape}')\n",
        "train_df.head()"
      ]
    },
    {
      "cell_type": "code",
      "execution_count": null,
      "metadata": {
        "execution": {
          "iopub.execute_input": "2024-09-29T09:40:37.014151Z",
          "iopub.status.busy": "2024-09-29T09:40:37.013359Z",
          "iopub.status.idle": "2024-09-29T09:40:37.024664Z",
          "shell.execute_reply": "2024-09-29T09:40:37.023593Z",
          "shell.execute_reply.started": "2024-09-29T09:40:37.014102Z"
        },
        "id": "ASNL-y64d43k",
        "trusted": true
      },
      "outputs": [],
      "source": [
        "print(f'Number of unique graphemes: {train_df[\"grapheme_root\"].nunique()}')\n",
        "print(f'Number of unique vowel diacritic: {train_df[\"vowel_diacritic\"].nunique()}')\n",
        "print(f'Number of unique consonant diacritic: {train_df[\"consonant_diacritic\"].nunique()}')"
      ]
    },
    {
      "cell_type": "code",
      "execution_count": null,
      "metadata": {
        "execution": {
          "iopub.execute_input": "2024-09-29T09:40:37.689773Z",
          "iopub.status.busy": "2024-09-29T09:40:37.688871Z",
          "iopub.status.idle": "2024-09-29T09:40:37.699741Z",
          "shell.execute_reply": "2024-09-29T09:40:37.698782Z",
          "shell.execute_reply.started": "2024-09-29T09:40:37.689727Z"
        },
        "id": "xZKo47hEd43l",
        "trusted": true
      },
      "outputs": [],
      "source": [
        "def get_pad_width(im, new_shape, is_rgb=True):\n",
        "    pad_diff = new_shape - np.array(im.shape[:2])\n",
        "    t, b = pad_diff[0] // 2, (pad_diff[0] + 1) // 2\n",
        "    l, r = pad_diff[1] // 2, (pad_diff[1] + 1) // 2\n",
        "    return ((t, b), (l, r), (0, 0)) if is_rgb else ((t, b), (l, r))\n",
        "\n",
        "def crop_object(img, thresh=220, maxval=255, square=True):\n",
        "    gray = cv2.cvtColor(img, cv2.COLOR_BGR2GRAY)\n",
        "    _, thresh_gray = cv2.threshold(gray, thresh, maxval, cv2.THRESH_BINARY_INV)\n",
        "    contours, _ = cv2.findContours(thresh_gray, cv2.RETR_EXTERNAL, cv2.CHAIN_APPROX_SIMPLE)\n",
        "\n",
        "    x, y, w, h = max([cv2.boundingRect(c) for c in contours], key=lambda b: b[2]*b[3])\n",
        "    crop = img[y:y+h, x:x+w]\n",
        "\n",
        "    if square:\n",
        "        pad_width = get_pad_width(crop, max(crop.shape[:2]), is_rgb=(img.ndim == 3))\n",
        "        crop = np.pad(crop, pad_width=pad_width, mode='constant', constant_values=255)\n",
        "\n",
        "    return crop"
      ]
    },
    {
      "cell_type": "code",
      "execution_count": null,
      "metadata": {
        "execution": {
          "iopub.execute_input": "2024-09-29T09:40:38.590602Z",
          "iopub.status.busy": "2024-09-29T09:40:38.589676Z",
          "iopub.status.idle": "2024-09-29T09:40:38.595133Z",
          "shell.execute_reply": "2024-09-29T09:40:38.594082Z",
          "shell.execute_reply.started": "2024-09-29T09:40:38.590562Z"
        },
        "id": "SOeObLkQd43l",
        "trusted": true
      },
      "outputs": [],
      "source": [
        "datagen = ImageDataGenerator(\n",
        "    rotation_range=5,\n",
        "    width_shift_range=0.1,\n",
        "    height_shift_range=0.1,\n",
        "    shear_range=0.1,\n",
        "    #preprocessing_function= tf.keras.applications.efficientnet.preprocess_input\n",
        ")"
      ]
    },
    {
      "cell_type": "code",
      "execution_count": null,
      "metadata": {
        "execution": {
          "iopub.execute_input": "2024-09-29T09:40:42.737301Z",
          "iopub.status.busy": "2024-09-29T09:40:42.736386Z",
          "iopub.status.idle": "2024-09-29T09:40:42.748496Z",
          "shell.execute_reply": "2024-09-29T09:40:42.74737Z",
          "shell.execute_reply.started": "2024-09-29T09:40:42.737257Z"
        },
        "id": "3CoQfSg0d43l",
        "trusted": true
      },
      "outputs": [],
      "source": [
        "def data_generator(filenames, y, batch_size=128, shape=(64, 64, 1), random_state=42, preprocess=False, augmentation=False):\n",
        "    y = y.copy()\n",
        "    np.random.seed(random_state)\n",
        "    indices = np.arange(len(filenames))\n",
        "\n",
        "    while True:\n",
        "        np.random.shuffle(indices)\n",
        "\n",
        "        for i in range(0, len(indices), batch_size):\n",
        "            batch_idx = indices[i:i + batch_size]\n",
        "            size = len(batch_idx)\n",
        "\n",
        "            batch_files = filenames[batch_idx]\n",
        "            X_batch = np.zeros((size, *shape), dtype=np.float32)\n",
        "            y_batch = y[batch_idx]\n",
        "\n",
        "            for j, file in enumerate(batch_files):\n",
        "                #print(file)\n",
        "                img = cv2.imread(file)\n",
        "                img = cv2.cvtColor(img, cv2.COLOR_BGR2RGB)  # Convert BGR to RGB\n",
        "\n",
        "                if preprocess:\n",
        "                    img = crop_object(img, thresh=250)  # Ensure img is still RGB\n",
        "                    img = cv2.resize(img, shape[:2])  # Resize to (64, 64)\n",
        "                else:\n",
        "                    img = cv2.resize(img, shape[:2])  # Resize to (64, 64)\n",
        "\n",
        "                if augmentation:\n",
        "                    img = datagen.random_transform(img)\n",
        "\n",
        "                # Convert the RGB image to grayscale\n",
        "                img = cv2.cvtColor(img, cv2.COLOR_RGB2GRAY)\n",
        "\n",
        "                # Reshape to add a channel dimension\n",
        "                img = img.reshape(*shape)  # Now shape is (64, 64, 1)\n",
        "\n",
        "                X_batch[j] = img / 255.0  # Normalize pixel values to [0, 1]\n",
        "\n",
        "            # Convert target labels from list of arrays to a tuple of arrays\n",
        "            y_batch_tuple = tuple([y_batch[:, i] for i in range(y_batch.shape[1])])\n",
        "\n",
        "            # Yield the batch and labels\n",
        "            yield X_batch, y_batch_tuple"
      ]
    },
    {
      "cell_type": "code",
      "execution_count": null,
      "metadata": {
        "execution": {
          "iopub.execute_input": "2024-09-29T09:40:42.905557Z",
          "iopub.status.busy": "2024-09-29T09:40:42.904695Z",
          "iopub.status.idle": "2024-09-29T09:40:42.918132Z",
          "shell.execute_reply": "2024-09-29T09:40:42.917146Z",
          "shell.execute_reply.started": "2024-09-29T09:40:42.905518Z"
        },
        "id": "rXpxHjYWd43l",
        "trusted": true
      },
      "outputs": [],
      "source": [
        "train_files, valid_files, y_train, y_valid = train_test_split(\n",
        "    train.filename.values,\n",
        "    train[['grapheme_root','vowel_diacritic', 'consonant_diacritic']].values,\n",
        "    test_size=0.25,\n",
        ")"
      ]
    },
    {
      "cell_type": "code",
      "execution_count": null,
      "metadata": {
        "execution": {
          "iopub.execute_input": "2024-09-29T09:40:43.024013Z",
          "iopub.status.busy": "2024-09-29T09:40:43.023111Z",
          "iopub.status.idle": "2024-09-29T09:40:43.322145Z",
          "shell.execute_reply": "2024-09-29T09:40:43.321154Z",
          "shell.execute_reply.started": "2024-09-29T09:40:43.023972Z"
        },
        "id": "ShanV13cd43l",
        "trusted": true
      },
      "outputs": [],
      "source": [
        "image = cv2.cvtColor(cv2.imread('/kaggle/input/bengaliai/256_train/256/Train_200000.png'), cv2.COLOR_BGR2RGB)\n",
        "plt.imshow(image)"
      ]
    },
    {
      "cell_type": "code",
      "execution_count": null,
      "metadata": {
        "execution": {
          "iopub.execute_input": "2024-09-29T09:40:43.324446Z",
          "iopub.status.busy": "2024-09-29T09:40:43.324063Z",
          "iopub.status.idle": "2024-09-29T09:40:45.336539Z",
          "shell.execute_reply": "2024-09-29T09:40:45.33559Z",
          "shell.execute_reply.started": "2024-09-29T09:40:43.32441Z"
        },
        "id": "v4DC-v9Gd43m",
        "trusted": true
      },
      "outputs": [],
      "source": [
        "#generator = data_generator(train_files, y_train, preprocess=False, augmentation=False)\n",
        "generator = data_generator(train_files, y_train)\n",
        "X_batch, _ = next(generator)\n",
        "\n",
        "fig, axes = plt.subplots(5, 5, figsize=(5, 5), facecolor='lightgray')\n",
        "axes = axes.flatten()\n",
        "\n",
        "for img, ax in zip(X_batch, axes):\n",
        "    ax.imshow(np.squeeze(img))  # Squeeze the image and use grayscale colormap\n",
        "    ax.axis('off')  # Hide axis\n",
        "\n",
        "plt.suptitle('Images from Training Set', fontsize=16)\n",
        "\n",
        "# Adjust layout\n",
        "plt.tight_layout(rect=[0, 0, 1, 1])  # Leave space for the title\n",
        "\n",
        "# Save the figure\n",
        "plt.savefig('sample_images.png', bbox_inches='tight', dpi=400)\n",
        "plt.show()"
      ]
    },
    {
      "cell_type": "code",
      "execution_count": null,
      "metadata": {
        "execution": {
          "iopub.execute_input": "2024-09-29T09:40:45.338455Z",
          "iopub.status.busy": "2024-09-29T09:40:45.338133Z",
          "iopub.status.idle": "2024-09-29T09:40:47.532756Z",
          "shell.execute_reply": "2024-09-29T09:40:47.531687Z",
          "shell.execute_reply.started": "2024-09-29T09:40:45.338421Z"
        },
        "id": "kOMNJVgfd43m",
        "trusted": true
      },
      "outputs": [],
      "source": [
        "# Usage of the generator\n",
        "#generator = data_generator(train_files, y_train, preprocess=True, augmentation=False)\n",
        "generator = data_generator(train_files, y_train, preprocess=True, augmentation=False)\n",
        "X_batch, _ = next(generator)\n",
        "\n",
        "fig, axes = plt.subplots(5, 5, figsize=(5, 5), facecolor='lightgray')\n",
        "axes = axes.flatten()\n",
        "\n",
        "for img, ax in zip(X_batch, axes):\n",
        "    ax.imshow(img)  # Display the RGB image\n",
        "    ax.axis('off')  # Hide axis\n",
        "\n",
        "plt.suptitle('Preprocessed Images', fontsize=16)\n",
        "\n",
        "# Adjust layout\n",
        "plt.tight_layout(rect=[0, 0, 1, 1])  # Leave space for the title\n",
        "\n",
        "# Save the figure\n",
        "plt.savefig('preprocessed.png', bbox_inches='tight', dpi=400)\n",
        "plt.show()"
      ]
    },
    {
      "cell_type": "code",
      "execution_count": null,
      "metadata": {
        "execution": {
          "iopub.execute_input": "2024-09-29T09:40:47.535288Z",
          "iopub.status.busy": "2024-09-29T09:40:47.534917Z",
          "iopub.status.idle": "2024-09-29T09:40:49.899095Z",
          "shell.execute_reply": "2024-09-29T09:40:49.898065Z",
          "shell.execute_reply.started": "2024-09-29T09:40:47.535249Z"
        },
        "id": "9p3YRARad43m",
        "trusted": true
      },
      "outputs": [],
      "source": [
        "# Usage of the generator\n",
        "#generator = data_generator(train_files, y_train, preprocess=True, augmentation=True)\n",
        "generator = data_generator(train_files, y_train, preprocess=True, augmentation=True)\n",
        "X_batch, _ = next(generator)\n",
        "\n",
        "fig, axes = plt.subplots(5, 5, figsize=(5, 5), facecolor='lightgray')\n",
        "axes = axes.flatten()\n",
        "\n",
        "for img, ax in zip(X_batch, axes):\n",
        "    ax.imshow(img)  # Display the RGB image\n",
        "    ax.axis('off')  # Hide axis\n",
        "\n",
        "plt.suptitle('Augmented + Preprocessed Images', fontsize=16)\n",
        "\n",
        "# Adjust layout\n",
        "plt.tight_layout(rect=[0, 0, 1, 1])  # Leave space for the title\n",
        "\n",
        "# Save the figure\n",
        "plt.savefig('augmented.png', bbox_inches='tight', dpi=400)\n",
        "plt.show()"
      ]
    },
    {
      "cell_type": "code",
      "execution_count": null,
      "metadata": {
        "execution": {
          "iopub.execute_input": "2024-09-29T09:40:49.90047Z",
          "iopub.status.busy": "2024-09-29T09:40:49.900182Z",
          "iopub.status.idle": "2024-09-29T09:40:49.906941Z",
          "shell.execute_reply": "2024-09-29T09:40:49.905918Z",
          "shell.execute_reply.started": "2024-09-29T09:40:49.900439Z"
        },
        "id": "y5md08m6d43m",
        "trusted": true
      },
      "outputs": [],
      "source": [
        "batch_size = 128\n",
        "\n",
        "#train_gen = data_generator(train_files, y_train, preprocess=True, augmentation=True)\n",
        "#valid_gen = data_generator(valid_files, y_valid, preprocess=True, augmentation=True)\n",
        "\n",
        "train_gen = data_generator(train_files, y_train, preprocess=True, augmentation=True)\n",
        "valid_gen = data_generator(valid_files, y_valid, preprocess=True, augmentation=True)\n",
        "\n",
        "print((len(train_files) , len(valid_files)))\n",
        "\n",
        "train_steps = len(train_files) // batch_size\n",
        "valid_steps = len(valid_files) // batch_size"
      ]
    },
    {
      "cell_type": "code",
      "execution_count": null,
      "metadata": {
        "execution": {
          "iopub.execute_input": "2024-09-29T10:21:09.187955Z",
          "iopub.status.busy": "2024-09-29T10:21:09.187204Z",
          "iopub.status.idle": "2024-09-29T10:21:09.432343Z",
          "shell.execute_reply": "2024-09-29T10:21:09.431435Z",
          "shell.execute_reply.started": "2024-09-29T10:21:09.187912Z"
        },
        "id": "RU5c8XKkd43m",
        "trusted": true
      },
      "outputs": [],
      "source": [
        "from tensorflow.keras.layers import Input, Conv2D, SeparableConv2D, BatchNormalization, MaxPool2D, Dropout, Dense, Flatten, GlobalAveragePooling2D\n",
        "from tensorflow.keras.models import Model\n",
        "\n",
        "def bengali_ai():\n",
        "    inputs = Input(shape=(64, 64, 1))\n",
        "\n",
        "    x = SeparableConv2D(filters=32, kernel_size=(3, 3), padding='SAME', activation='relu')(inputs)\n",
        "    x = SeparableConv2D(filters=32, kernel_size=(3, 3), padding='SAME', activation='relu')(x)\n",
        "    x = BatchNormalization(momentum=0.5)(x)\n",
        "    x = MaxPool2D(pool_size=(2, 2))(x)\n",
        "\n",
        "    x = Dropout(rate=0.2)(x)\n",
        "\n",
        "    x = SeparableConv2D(filters=64, kernel_size=(3, 3), padding='SAME', activation='relu')(x)\n",
        "    x = SeparableConv2D(filters=64, kernel_size=(3, 3), padding='SAME', activation='relu')(x)\n",
        "    x = BatchNormalization(momentum=0.5)(x)\n",
        "    x = MaxPool2D(pool_size=(2, 2))(x)\n",
        "\n",
        "    x = SeparableConv2D(filters=128, kernel_size=(3, 3), padding='SAME', activation='relu')(x)\n",
        "    x = SeparableConv2D(filters=128, kernel_size=(3, 3), padding='SAME', activation='relu')(x)\n",
        "    x = BatchNormalization(momentum=0.5)(x)\n",
        "    x = MaxPool2D(pool_size=(2, 2))(x)\n",
        "\n",
        "    x = Dropout(rate=0.2)(x)\n",
        "\n",
        "    x = SeparableConv2D(filters=128, kernel_size=(3, 3), padding='SAME', activation='relu')(x)\n",
        "    x = SeparableConv2D(filters=256, kernel_size=(3, 3), padding='SAME', activation='relu')(x)\n",
        "    x = BatchNormalization(momentum=0.5)(x)\n",
        "    x = MaxPool2D(pool_size=(2, 2))(x)\n",
        "\n",
        "    x = SeparableConv2D(filters=256, kernel_size=(3, 3), padding='SAME', activation='relu')(x)\n",
        "    x = SeparableConv2D(filters=256, kernel_size=(3, 3), padding='SAME', activation='relu')(x)\n",
        "    x = BatchNormalization(momentum=0.5)(x)\n",
        "    x = MaxPool2D(pool_size=(2, 2))(x)\n",
        "\n",
        "    x = GlobalAveragePooling2D()(x)\n",
        "    x = Dropout(rate=0.2)(x)\n",
        "\n",
        "    # Dense Layers\n",
        "    x = Dense(1024, activation=\"relu\")(x)\n",
        "    x = BatchNormalization(momentum=0.5)(x)\n",
        "\n",
        "    # Output Layers\n",
        "    root_out = layers.Dense(168, activation='softmax', name='grapheme')(x)\n",
        "    vowel_out = layers.Dense(11, activation='softmax', name='vowel')(x)\n",
        "    consonant_out = layers.Dense(7, activation='softmax', name='consonant')(x)\n",
        "\n",
        "# Final Model\n",
        "    model = Model(inputs=inputs, outputs=[root_out, vowel_out, consonant_out], name='bengali.ai')\n",
        "\n",
        "    return model\n",
        "\n",
        "model = bengali_ai()\n",
        "model.summary()"
      ]
    },
    {
      "cell_type": "code",
      "execution_count": null,
      "metadata": {
        "execution": {
          "iopub.execute_input": "2024-09-29T10:22:54.532339Z",
          "iopub.status.busy": "2024-09-29T10:22:54.531946Z",
          "iopub.status.idle": "2024-09-29T10:23:12.431927Z",
          "shell.execute_reply": "2024-09-29T10:23:12.430877Z",
          "shell.execute_reply.started": "2024-09-29T10:22:54.532303Z"
        },
        "id": "F8wvcli4d43m",
        "trusted": true
      },
      "outputs": [],
      "source": [
        "tf.keras.utils.plot_model(model, dpi=500, to_file='model.png', show_shapes=True, show_layer_activations=True) # , show_trainable=True"
      ]
    },
    {
      "cell_type": "code",
      "execution_count": null,
      "metadata": {
        "execution": {
          "iopub.execute_input": "2024-09-29T10:21:16.934979Z",
          "iopub.status.busy": "2024-09-29T10:21:16.934249Z",
          "iopub.status.idle": "2024-09-29T10:21:16.945314Z",
          "shell.execute_reply": "2024-09-29T10:21:16.944153Z",
          "shell.execute_reply.started": "2024-09-29T10:21:16.934937Z"
        },
        "id": "ENjW5loSd43m",
        "trusted": true
      },
      "outputs": [],
      "source": [
        "model.compile(\n",
        "    optimizer=tf.keras.optimizers.Adam(learning_rate=0.0001),\n",
        "    loss={\n",
        "        'grapheme': 'sparse_categorical_crossentropy',\n",
        "        'vowel': 'sparse_categorical_crossentropy',\n",
        "        'consonant': 'sparse_categorical_crossentropy'\n",
        "    },\n",
        "    metrics={\n",
        "        'grapheme': 'accuracy',\n",
        "        'vowel': 'accuracy',\n",
        "        'consonant': 'accuracy'\n",
        "    }\n",
        ")"
      ]
    },
    {
      "cell_type": "code",
      "execution_count": null,
      "metadata": {
        "execution": {
          "iopub.execute_input": "2024-09-29T10:21:17.55842Z",
          "iopub.status.busy": "2024-09-29T10:21:17.557553Z",
          "iopub.status.idle": "2024-09-29T10:21:17.563095Z",
          "shell.execute_reply": "2024-09-29T10:21:17.562054Z",
          "shell.execute_reply.started": "2024-09-29T10:21:17.558378Z"
        },
        "id": "gGBJOVGWd43m",
        "trusted": true
      },
      "outputs": [],
      "source": [
        "model_checkpoint_callback = tf.keras.callbacks.ModelCheckpoint(\n",
        "    filepath='checkpoint.weights.h5',\n",
        "    monitor='val_loss',\n",
        "    mode='min',\n",
        "    save_freq = 'epoch',\n",
        "    save_weights_only=True,\n",
        "    save_best_only=True)"
      ]
    },
    {
      "cell_type": "code",
      "execution_count": null,
      "metadata": {
        "execution": {
          "iopub.execute_input": "2024-09-29T10:21:18.389283Z",
          "iopub.status.busy": "2024-09-29T10:21:18.388386Z",
          "iopub.status.idle": "2024-09-29T10:21:18.394477Z",
          "shell.execute_reply": "2024-09-29T10:21:18.393441Z",
          "shell.execute_reply.started": "2024-09-29T10:21:18.389243Z"
        },
        "id": "n_eA0miZd43m",
        "trusted": true
      },
      "outputs": [],
      "source": [
        "early_stopping_callback = tf.keras.callbacks.EarlyStopping(\n",
        "    monitor='val_loss',  # Monitor validation accuracy\n",
        "    min_delta=0.001,         # Minimum change in monitored value to qualify as improvement\n",
        "    patience=3,             # Stop after 10 epochs of no improvement\n",
        "    mode='min',              # Maximize the validation accuracy\n",
        "    restore_best_weights=True,  # Restore model weights from the best epoch\n",
        "    verbose=1\n",
        ")"
      ]
    },
    {
      "cell_type": "code",
      "execution_count": null,
      "metadata": {
        "execution": {
          "iopub.execute_input": "2024-09-29T10:21:19.270471Z",
          "iopub.status.busy": "2024-09-29T10:21:19.269832Z",
          "iopub.status.idle": "2024-09-29T10:22:28.618669Z",
          "shell.execute_reply": "2024-09-29T10:22:28.617078Z",
          "shell.execute_reply.started": "2024-09-29T10:21:19.270429Z"
        },
        "id": "HlKKHtqRd43m",
        "trusted": true
      },
      "outputs": [],
      "source": [
        "train_history = model.fit(\n",
        "    train_gen,\n",
        "    steps_per_epoch=train_steps,\n",
        "    epochs=50,\n",
        "    validation_data=valid_gen,\n",
        "    validation_steps=valid_steps,\n",
        "    callbacks=[model_checkpoint_callback, early_stopping_callback]\n",
        ")"
      ]
    },
    {
      "cell_type": "code",
      "execution_count": null,
      "metadata": {
        "execution": {
          "iopub.status.busy": "2024-09-29T09:17:53.585613Z",
          "iopub.status.idle": "2024-09-29T09:17:53.58604Z",
          "shell.execute_reply": "2024-09-29T09:17:53.585867Z",
          "shell.execute_reply.started": "2024-09-29T09:17:53.585846Z"
        },
        "id": "H4_SCyB-d43m",
        "trusted": true
      },
      "outputs": [],
      "source": [
        "train_history.history.keys()"
      ]
    },
    {
      "cell_type": "code",
      "execution_count": null,
      "metadata": {
        "execution": {
          "iopub.status.busy": "2024-09-29T09:17:53.587893Z",
          "iopub.status.idle": "2024-09-29T09:17:53.58837Z",
          "shell.execute_reply": "2024-09-29T09:17:53.588145Z",
          "shell.execute_reply.started": "2024-09-29T09:17:53.58812Z"
        },
        "id": "CdUpODE7d43n",
        "trusted": true
      },
      "outputs": [],
      "source": [
        "model.save('bengali.ai efficientb0 grayscale.h5')"
      ]
    },
    {
      "cell_type": "code",
      "execution_count": null,
      "metadata": {
        "execution": {
          "iopub.status.busy": "2024-09-29T09:17:53.59019Z",
          "iopub.status.idle": "2024-09-29T09:17:53.590686Z",
          "shell.execute_reply": "2024-09-29T09:17:53.590454Z",
          "shell.execute_reply.started": "2024-09-29T09:17:53.590429Z"
        },
        "id": "lGgynG4kd43n",
        "trusted": true
      },
      "outputs": [],
      "source": [
        "plt.figure(figsize = (20, 5))\n",
        "plt.plot(train_history.history['loss'], '--o', label='train loss')\n",
        "plt.plot(train_history.history['val_loss'], '--o', label='val loss')\n",
        "plt.legend()\n",
        "plt.title('training loss & val loss')\n",
        "plt.savefig('fig_total_loss.png', format='png', dpi=400)\n",
        "plt.show()"
      ]
    },
    {
      "cell_type": "code",
      "execution_count": null,
      "metadata": {
        "execution": {
          "iopub.status.busy": "2024-09-29T09:17:53.59283Z",
          "iopub.status.idle": "2024-09-29T09:17:53.593249Z",
          "shell.execute_reply": "2024-09-29T09:17:53.593073Z",
          "shell.execute_reply.started": "2024-09-29T09:17:53.593052Z"
        },
        "id": "Ax7ExHSCd43n",
        "trusted": true
      },
      "outputs": [],
      "source": [
        "plt.figure(figsize = (20, 5))\n",
        "plt.plot(train_history.history['grapheme_accuracy'], '--o', label='grapheme accuracy')\n",
        "plt.plot(train_history.history['val_grapheme_accuracy'], '--o', label='val grapheme accuracy')\n",
        "plt.legend()\n",
        "plt.title('training grapheme acc & val grapheme acc')\n",
        "plt.savefig('fig_grapheme_acc.png', format='png', dpi=400)\n",
        "plt.show()"
      ]
    },
    {
      "cell_type": "code",
      "execution_count": null,
      "metadata": {
        "execution": {
          "iopub.status.busy": "2024-09-29T09:17:53.594397Z",
          "iopub.status.idle": "2024-09-29T09:17:53.594764Z",
          "shell.execute_reply": "2024-09-29T09:17:53.594578Z",
          "shell.execute_reply.started": "2024-09-29T09:17:53.594561Z"
        },
        "id": "cKD9svt3d43n",
        "trusted": true
      },
      "outputs": [],
      "source": [
        "plt.figure(figsize = (20, 5))\n",
        "plt.plot(train_history.history['vowel_accuracy'], '--o', label='vowel accuracy')\n",
        "plt.plot(train_history.history['val_vowel_accuracy'], '--o', label='val vowel accuracy')\n",
        "plt.legend()\n",
        "plt.title('training vowel acc & val vowel acc')\n",
        "plt.savefig('fig_vowel_acc.png', format='png', dpi=400)\n",
        "plt.show()"
      ]
    },
    {
      "cell_type": "code",
      "execution_count": null,
      "metadata": {
        "execution": {
          "iopub.status.busy": "2024-09-29T09:17:53.595974Z",
          "iopub.status.idle": "2024-09-29T09:17:53.596363Z",
          "shell.execute_reply": "2024-09-29T09:17:53.596186Z",
          "shell.execute_reply.started": "2024-09-29T09:17:53.596165Z"
        },
        "id": "4Ksg__hyd43n",
        "trusted": true
      },
      "outputs": [],
      "source": [
        "plt.figure(figsize = (20, 5))\n",
        "plt.plot(train_history.history['consonant_accuracy'], '--o', label='consonant accuracy')\n",
        "plt.plot(train_history.history['val_consonant_accuracy'], '--o', label='val consonant accuracy')\n",
        "plt.legend()\n",
        "plt.title('training consonant acc & val consonant acc')\n",
        "plt.savefig('fig_consonant_acc.png', format='png', dpi=400)\n",
        "plt.show()"
      ]
    },
    {
      "cell_type": "code",
      "execution_count": null,
      "metadata": {
        "execution": {
          "iopub.execute_input": "2024-09-29T10:11:32.653209Z",
          "iopub.status.busy": "2024-09-29T10:11:32.652829Z",
          "iopub.status.idle": "2024-09-29T10:11:32.660087Z",
          "shell.execute_reply": "2024-09-29T10:11:32.659287Z",
          "shell.execute_reply.started": "2024-09-29T10:11:32.653172Z"
        },
        "id": "nzUWE4njd43n",
        "trusted": true
      },
      "outputs": [],
      "source": [
        "pd.DataFrame(train_history.history).to_csv('history.csv', index=False)"
      ]
    },
    {
      "cell_type": "code",
      "execution_count": null,
      "metadata": {
        "execution": {
          "iopub.execute_input": "2024-09-29T10:11:36.800043Z",
          "iopub.status.busy": "2024-09-29T10:11:36.799359Z",
          "iopub.status.idle": "2024-09-29T10:11:36.818784Z",
          "shell.execute_reply": "2024-09-29T10:11:36.817687Z",
          "shell.execute_reply.started": "2024-09-29T10:11:36.800003Z"
        },
        "id": "8QtI8V3kd43n",
        "trusted": true
      },
      "outputs": [],
      "source": [
        "df = pd.read_csv('/kaggle/working/history.csv')\n",
        "print(df.shape)\n",
        "df.head(df.shape[0])"
      ]
    },
    {
      "cell_type": "code",
      "execution_count": null,
      "metadata": {
        "id": "SA4z8Dffd43n"
      },
      "outputs": [],
      "source": []
    }
  ],
  "metadata": {
    "colab": {
      "name": "bengali.ai Grapheme Classification",
      "provenance": []
    },
    "kaggle": {
      "accelerator": "gpu",
      "dataSources": [
        {
          "databundleVersionId": 1020216,
          "sourceId": 14897,
          "sourceType": "competition"
        },
        {
          "datasetId": 80814,
          "sourceId": 187731,
          "sourceType": "datasetVersion"
        },
        {
          "datasetId": 451010,
          "sourceId": 852804,
          "sourceType": "datasetVersion"
        },
        {
          "sourceId": 198686383,
          "sourceType": "kernelVersion"
        }
      ],
      "dockerImageVersionId": 30776,
      "isGpuEnabled": true,
      "isInternetEnabled": true,
      "language": "python",
      "sourceType": "notebook"
    },
    "kernelspec": {
      "display_name": "Python 3",
      "language": "python",
      "name": "python3"
    },
    "language_info": {
      "codemirror_mode": {
        "name": "ipython",
        "version": 3
      },
      "file_extension": ".py",
      "mimetype": "text/x-python",
      "name": "python",
      "nbconvert_exporter": "python",
      "pygments_lexer": "ipython3",
      "version": "3.10.14"
    }
  },
  "nbformat": 4,
  "nbformat_minor": 0
}
